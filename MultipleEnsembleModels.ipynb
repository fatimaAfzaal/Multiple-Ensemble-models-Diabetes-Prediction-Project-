{
  "nbformat": 4,
  "nbformat_minor": 0,
  "metadata": {
    "colab": {
      "provenance": [],
      "authorship_tag": "ABX9TyPdFSVjhctXm2RPpjZ8gWTT",
      "include_colab_link": true
    },
    "kernelspec": {
      "name": "python3",
      "display_name": "Python 3"
    },
    "language_info": {
      "name": "python"
    }
  },
  "cells": [
    {
      "cell_type": "markdown",
      "metadata": {
        "id": "view-in-github",
        "colab_type": "text"
      },
      "source": [
        "<a href=\"https://colab.research.google.com/github/fatimaAfzaal/Multiple-Ensemble-models-Diabetes-Prediction-Project-/blob/main/MultipleEnsembleModels.ipynb\" target=\"_parent\"><img src=\"https://colab.research.google.com/assets/colab-badge.svg\" alt=\"Open In Colab\"/></a>"
      ]
    },
    {
      "cell_type": "markdown",
      "source": [
        "# Diabetes Prediction Project Using Ensemble models\n"
      ],
      "metadata": {
        "id": "uQhasmlRUq5s"
      }
    },
    {
      "cell_type": "markdown",
      "source": [
        "## STEP 1:\n",
        "### Problem definition\n",
        "We have to define the problem and set goal that we we have to do"
      ],
      "metadata": {
        "id": "DeDXMTDaUy51"
      }
    },
    {
      "cell_type": "markdown",
      "source": [
        "## STEP 2:\n",
        "### Data Collection and Exploration\n",
        "This is the step where we have to collect the data required. As in our project we get the dataset from kaggle(https://www.kaggle.com/datasets/mathchi/diabetes-data-set)\n",
        "\n",
        "Also in this step we will explore data to get insight and use visualizations as well if needed to understand data"
      ],
      "metadata": {
        "id": "RSCqaLqSWm26"
      }
    },
    {
      "cell_type": "code",
      "execution_count": 22,
      "metadata": {
        "colab": {
          "base_uri": "https://localhost:8080/"
        },
        "id": "7Y0-k9ksdQ2a",
        "outputId": "f56fad10-3e28-4319-c6a6-0a570169df51"
      },
      "outputs": [
        {
          "output_type": "stream",
          "name": "stdout",
          "text": [
            "Drive already mounted at /content/gdrive; to attempt to forcibly remount, call drive.mount(\"/content/gdrive\", force_remount=True).\n"
          ]
        }
      ],
      "source": [
        "from google.colab import drive\n",
        "drive.mount('/content/gdrive')            # Mount Google Drive to access data"
      ]
    },
    {
      "cell_type": "markdown",
      "source": [
        "### Data Collection"
      ],
      "metadata": {
        "id": "2jY1KmmPYzkY"
      }
    },
    {
      "cell_type": "code",
      "source": [
        "pip install catboost\n"
      ],
      "metadata": {
        "colab": {
          "base_uri": "https://localhost:8080/"
        },
        "id": "76HUhjE96NRi",
        "outputId": "964e5432-1176-4762-bb9f-3ac60db89b7a"
      },
      "execution_count": 23,
      "outputs": [
        {
          "output_type": "stream",
          "name": "stdout",
          "text": [
            "Requirement already satisfied: catboost in /usr/local/lib/python3.10/dist-packages (1.2.2)\n",
            "Requirement already satisfied: graphviz in /usr/local/lib/python3.10/dist-packages (from catboost) (0.20.1)\n",
            "Requirement already satisfied: matplotlib in /usr/local/lib/python3.10/dist-packages (from catboost) (3.7.1)\n",
            "Requirement already satisfied: numpy>=1.16.0 in /usr/local/lib/python3.10/dist-packages (from catboost) (1.23.5)\n",
            "Requirement already satisfied: pandas>=0.24 in /usr/local/lib/python3.10/dist-packages (from catboost) (1.5.3)\n",
            "Requirement already satisfied: scipy in /usr/local/lib/python3.10/dist-packages (from catboost) (1.11.2)\n",
            "Requirement already satisfied: plotly in /usr/local/lib/python3.10/dist-packages (from catboost) (5.15.0)\n",
            "Requirement already satisfied: six in /usr/local/lib/python3.10/dist-packages (from catboost) (1.16.0)\n",
            "Requirement already satisfied: python-dateutil>=2.8.1 in /usr/local/lib/python3.10/dist-packages (from pandas>=0.24->catboost) (2.8.2)\n",
            "Requirement already satisfied: pytz>=2020.1 in /usr/local/lib/python3.10/dist-packages (from pandas>=0.24->catboost) (2023.3.post1)\n",
            "Requirement already satisfied: contourpy>=1.0.1 in /usr/local/lib/python3.10/dist-packages (from matplotlib->catboost) (1.1.0)\n",
            "Requirement already satisfied: cycler>=0.10 in /usr/local/lib/python3.10/dist-packages (from matplotlib->catboost) (0.11.0)\n",
            "Requirement already satisfied: fonttools>=4.22.0 in /usr/local/lib/python3.10/dist-packages (from matplotlib->catboost) (4.42.1)\n",
            "Requirement already satisfied: kiwisolver>=1.0.1 in /usr/local/lib/python3.10/dist-packages (from matplotlib->catboost) (1.4.5)\n",
            "Requirement already satisfied: packaging>=20.0 in /usr/local/lib/python3.10/dist-packages (from matplotlib->catboost) (23.1)\n",
            "Requirement already satisfied: pillow>=6.2.0 in /usr/local/lib/python3.10/dist-packages (from matplotlib->catboost) (9.4.0)\n",
            "Requirement already satisfied: pyparsing>=2.3.1 in /usr/local/lib/python3.10/dist-packages (from matplotlib->catboost) (3.1.1)\n",
            "Requirement already satisfied: tenacity>=6.2.0 in /usr/local/lib/python3.10/dist-packages (from plotly->catboost) (8.2.3)\n"
          ]
        }
      ]
    },
    {
      "cell_type": "code",
      "source": [
        "import pandas as pd                                                        #for data manipulation\n",
        "import numpy as np                                                         #for numerical operations\n",
        "from matplotlib import pyplot as plt                                       #for visualization\n",
        "import seaborn as sns                                                      #for visualization\n",
        "\n",
        "from sklearn.ensemble import RandomForestClassifier                        #for using Random forest Classifier algorithm\n",
        "from sklearn.ensemble import AdaBoostClassifier\n",
        "from sklearn.ensemble import GradientBoostingClassifier\n",
        "from sklearn.ensemble import BaggingClassifier\n",
        "from sklearn.ensemble import ExtraTreesClassifier\n",
        "from xgboost import XGBClassifier\n",
        "from sklearn.ensemble import StackingClassifier\n",
        "from sklearn.linear_model import LogisticRegression\n",
        "from sklearn.ensemble import VotingClassifier\n",
        "from catboost import CatBoostClassifier\n",
        "from sklearn.linear_model import PassiveAggressiveClassifier\n",
        "\n",
        "from sklearn.metrics import accuracy_score                                 #for accouracy\n",
        "\n",
        "df = pd.read_csv('/content/gdrive/MyDrive/Colab Notebooks/'+\"diabetess.csv\") #Read a CSV file by given path\n",
        "\n",
        "\n",
        "\n",
        "df"
      ],
      "metadata": {
        "id": "4aOCc4F_deIL",
        "colab": {
          "base_uri": "https://localhost:8080/",
          "height": 423
        },
        "outputId": "f10c5d65-626c-4c69-91f8-c92d39a3f301"
      },
      "execution_count": 24,
      "outputs": [
        {
          "output_type": "execute_result",
          "data": {
            "text/plain": [
              "     Pregnancies  Glucose  BloodPressure  SkinThickness  Insulin   BMI  \\\n",
              "0              6      148             72             35        0  33.6   \n",
              "1              1       85             66             29        0  26.6   \n",
              "2              8      183             64              0        0  23.3   \n",
              "3              1       89             66             23       94  28.1   \n",
              "4              0      137             40             35      168  43.1   \n",
              "..           ...      ...            ...            ...      ...   ...   \n",
              "763           10      101             76             48      180  32.9   \n",
              "764            2      122             70             27        0  36.8   \n",
              "765            5      121             72             23      112  26.2   \n",
              "766            1      126             60              0        0  30.1   \n",
              "767            1       93             70             31        0  30.4   \n",
              "\n",
              "     DiabetesPedigreeFunction  Age  Outcome  \n",
              "0                       0.627   50        1  \n",
              "1                       0.351   31        0  \n",
              "2                       0.672   32        1  \n",
              "3                       0.167   21        0  \n",
              "4                       2.288   33        1  \n",
              "..                        ...  ...      ...  \n",
              "763                     0.171   63        0  \n",
              "764                     0.340   27        0  \n",
              "765                     0.245   30        0  \n",
              "766                     0.349   47        1  \n",
              "767                     0.315   23        0  \n",
              "\n",
              "[768 rows x 9 columns]"
            ],
            "text/html": [
              "\n",
              "  <div id=\"df-0d5ef2aa-7907-430a-9406-3475fec52701\" class=\"colab-df-container\">\n",
              "    <div>\n",
              "<style scoped>\n",
              "    .dataframe tbody tr th:only-of-type {\n",
              "        vertical-align: middle;\n",
              "    }\n",
              "\n",
              "    .dataframe tbody tr th {\n",
              "        vertical-align: top;\n",
              "    }\n",
              "\n",
              "    .dataframe thead th {\n",
              "        text-align: right;\n",
              "    }\n",
              "</style>\n",
              "<table border=\"1\" class=\"dataframe\">\n",
              "  <thead>\n",
              "    <tr style=\"text-align: right;\">\n",
              "      <th></th>\n",
              "      <th>Pregnancies</th>\n",
              "      <th>Glucose</th>\n",
              "      <th>BloodPressure</th>\n",
              "      <th>SkinThickness</th>\n",
              "      <th>Insulin</th>\n",
              "      <th>BMI</th>\n",
              "      <th>DiabetesPedigreeFunction</th>\n",
              "      <th>Age</th>\n",
              "      <th>Outcome</th>\n",
              "    </tr>\n",
              "  </thead>\n",
              "  <tbody>\n",
              "    <tr>\n",
              "      <th>0</th>\n",
              "      <td>6</td>\n",
              "      <td>148</td>\n",
              "      <td>72</td>\n",
              "      <td>35</td>\n",
              "      <td>0</td>\n",
              "      <td>33.6</td>\n",
              "      <td>0.627</td>\n",
              "      <td>50</td>\n",
              "      <td>1</td>\n",
              "    </tr>\n",
              "    <tr>\n",
              "      <th>1</th>\n",
              "      <td>1</td>\n",
              "      <td>85</td>\n",
              "      <td>66</td>\n",
              "      <td>29</td>\n",
              "      <td>0</td>\n",
              "      <td>26.6</td>\n",
              "      <td>0.351</td>\n",
              "      <td>31</td>\n",
              "      <td>0</td>\n",
              "    </tr>\n",
              "    <tr>\n",
              "      <th>2</th>\n",
              "      <td>8</td>\n",
              "      <td>183</td>\n",
              "      <td>64</td>\n",
              "      <td>0</td>\n",
              "      <td>0</td>\n",
              "      <td>23.3</td>\n",
              "      <td>0.672</td>\n",
              "      <td>32</td>\n",
              "      <td>1</td>\n",
              "    </tr>\n",
              "    <tr>\n",
              "      <th>3</th>\n",
              "      <td>1</td>\n",
              "      <td>89</td>\n",
              "      <td>66</td>\n",
              "      <td>23</td>\n",
              "      <td>94</td>\n",
              "      <td>28.1</td>\n",
              "      <td>0.167</td>\n",
              "      <td>21</td>\n",
              "      <td>0</td>\n",
              "    </tr>\n",
              "    <tr>\n",
              "      <th>4</th>\n",
              "      <td>0</td>\n",
              "      <td>137</td>\n",
              "      <td>40</td>\n",
              "      <td>35</td>\n",
              "      <td>168</td>\n",
              "      <td>43.1</td>\n",
              "      <td>2.288</td>\n",
              "      <td>33</td>\n",
              "      <td>1</td>\n",
              "    </tr>\n",
              "    <tr>\n",
              "      <th>...</th>\n",
              "      <td>...</td>\n",
              "      <td>...</td>\n",
              "      <td>...</td>\n",
              "      <td>...</td>\n",
              "      <td>...</td>\n",
              "      <td>...</td>\n",
              "      <td>...</td>\n",
              "      <td>...</td>\n",
              "      <td>...</td>\n",
              "    </tr>\n",
              "    <tr>\n",
              "      <th>763</th>\n",
              "      <td>10</td>\n",
              "      <td>101</td>\n",
              "      <td>76</td>\n",
              "      <td>48</td>\n",
              "      <td>180</td>\n",
              "      <td>32.9</td>\n",
              "      <td>0.171</td>\n",
              "      <td>63</td>\n",
              "      <td>0</td>\n",
              "    </tr>\n",
              "    <tr>\n",
              "      <th>764</th>\n",
              "      <td>2</td>\n",
              "      <td>122</td>\n",
              "      <td>70</td>\n",
              "      <td>27</td>\n",
              "      <td>0</td>\n",
              "      <td>36.8</td>\n",
              "      <td>0.340</td>\n",
              "      <td>27</td>\n",
              "      <td>0</td>\n",
              "    </tr>\n",
              "    <tr>\n",
              "      <th>765</th>\n",
              "      <td>5</td>\n",
              "      <td>121</td>\n",
              "      <td>72</td>\n",
              "      <td>23</td>\n",
              "      <td>112</td>\n",
              "      <td>26.2</td>\n",
              "      <td>0.245</td>\n",
              "      <td>30</td>\n",
              "      <td>0</td>\n",
              "    </tr>\n",
              "    <tr>\n",
              "      <th>766</th>\n",
              "      <td>1</td>\n",
              "      <td>126</td>\n",
              "      <td>60</td>\n",
              "      <td>0</td>\n",
              "      <td>0</td>\n",
              "      <td>30.1</td>\n",
              "      <td>0.349</td>\n",
              "      <td>47</td>\n",
              "      <td>1</td>\n",
              "    </tr>\n",
              "    <tr>\n",
              "      <th>767</th>\n",
              "      <td>1</td>\n",
              "      <td>93</td>\n",
              "      <td>70</td>\n",
              "      <td>31</td>\n",
              "      <td>0</td>\n",
              "      <td>30.4</td>\n",
              "      <td>0.315</td>\n",
              "      <td>23</td>\n",
              "      <td>0</td>\n",
              "    </tr>\n",
              "  </tbody>\n",
              "</table>\n",
              "<p>768 rows × 9 columns</p>\n",
              "</div>\n",
              "    <div class=\"colab-df-buttons\">\n",
              "\n",
              "  <div class=\"colab-df-container\">\n",
              "    <button class=\"colab-df-convert\" onclick=\"convertToInteractive('df-0d5ef2aa-7907-430a-9406-3475fec52701')\"\n",
              "            title=\"Convert this dataframe to an interactive table.\"\n",
              "            style=\"display:none;\">\n",
              "\n",
              "  <svg xmlns=\"http://www.w3.org/2000/svg\" height=\"24px\" viewBox=\"0 -960 960 960\">\n",
              "    <path d=\"M120-120v-720h720v720H120Zm60-500h600v-160H180v160Zm220 220h160v-160H400v160Zm0 220h160v-160H400v160ZM180-400h160v-160H180v160Zm440 0h160v-160H620v160ZM180-180h160v-160H180v160Zm440 0h160v-160H620v160Z\"/>\n",
              "  </svg>\n",
              "    </button>\n",
              "\n",
              "  <style>\n",
              "    .colab-df-container {\n",
              "      display:flex;\n",
              "      gap: 12px;\n",
              "    }\n",
              "\n",
              "    .colab-df-convert {\n",
              "      background-color: #E8F0FE;\n",
              "      border: none;\n",
              "      border-radius: 50%;\n",
              "      cursor: pointer;\n",
              "      display: none;\n",
              "      fill: #1967D2;\n",
              "      height: 32px;\n",
              "      padding: 0 0 0 0;\n",
              "      width: 32px;\n",
              "    }\n",
              "\n",
              "    .colab-df-convert:hover {\n",
              "      background-color: #E2EBFA;\n",
              "      box-shadow: 0px 1px 2px rgba(60, 64, 67, 0.3), 0px 1px 3px 1px rgba(60, 64, 67, 0.15);\n",
              "      fill: #174EA6;\n",
              "    }\n",
              "\n",
              "    .colab-df-buttons div {\n",
              "      margin-bottom: 4px;\n",
              "    }\n",
              "\n",
              "    [theme=dark] .colab-df-convert {\n",
              "      background-color: #3B4455;\n",
              "      fill: #D2E3FC;\n",
              "    }\n",
              "\n",
              "    [theme=dark] .colab-df-convert:hover {\n",
              "      background-color: #434B5C;\n",
              "      box-shadow: 0px 1px 3px 1px rgba(0, 0, 0, 0.15);\n",
              "      filter: drop-shadow(0px 1px 2px rgba(0, 0, 0, 0.3));\n",
              "      fill: #FFFFFF;\n",
              "    }\n",
              "  </style>\n",
              "\n",
              "    <script>\n",
              "      const buttonEl =\n",
              "        document.querySelector('#df-0d5ef2aa-7907-430a-9406-3475fec52701 button.colab-df-convert');\n",
              "      buttonEl.style.display =\n",
              "        google.colab.kernel.accessAllowed ? 'block' : 'none';\n",
              "\n",
              "      async function convertToInteractive(key) {\n",
              "        const element = document.querySelector('#df-0d5ef2aa-7907-430a-9406-3475fec52701');\n",
              "        const dataTable =\n",
              "          await google.colab.kernel.invokeFunction('convertToInteractive',\n",
              "                                                    [key], {});\n",
              "        if (!dataTable) return;\n",
              "\n",
              "        const docLinkHtml = 'Like what you see? Visit the ' +\n",
              "          '<a target=\"_blank\" href=https://colab.research.google.com/notebooks/data_table.ipynb>data table notebook</a>'\n",
              "          + ' to learn more about interactive tables.';\n",
              "        element.innerHTML = '';\n",
              "        dataTable['output_type'] = 'display_data';\n",
              "        await google.colab.output.renderOutput(dataTable, element);\n",
              "        const docLink = document.createElement('div');\n",
              "        docLink.innerHTML = docLinkHtml;\n",
              "        element.appendChild(docLink);\n",
              "      }\n",
              "    </script>\n",
              "  </div>\n",
              "\n",
              "\n",
              "<div id=\"df-bc630718-c292-4047-a609-7fcf6fc6f759\">\n",
              "  <button class=\"colab-df-quickchart\" onclick=\"quickchart('df-bc630718-c292-4047-a609-7fcf6fc6f759')\"\n",
              "            title=\"Suggest charts.\"\n",
              "            style=\"display:none;\">\n",
              "\n",
              "<svg xmlns=\"http://www.w3.org/2000/svg\" height=\"24px\"viewBox=\"0 0 24 24\"\n",
              "     width=\"24px\">\n",
              "    <g>\n",
              "        <path d=\"M19 3H5c-1.1 0-2 .9-2 2v14c0 1.1.9 2 2 2h14c1.1 0 2-.9 2-2V5c0-1.1-.9-2-2-2zM9 17H7v-7h2v7zm4 0h-2V7h2v10zm4 0h-2v-4h2v4z\"/>\n",
              "    </g>\n",
              "</svg>\n",
              "  </button>\n",
              "\n",
              "<style>\n",
              "  .colab-df-quickchart {\n",
              "      --bg-color: #E8F0FE;\n",
              "      --fill-color: #1967D2;\n",
              "      --hover-bg-color: #E2EBFA;\n",
              "      --hover-fill-color: #174EA6;\n",
              "      --disabled-fill-color: #AAA;\n",
              "      --disabled-bg-color: #DDD;\n",
              "  }\n",
              "\n",
              "  [theme=dark] .colab-df-quickchart {\n",
              "      --bg-color: #3B4455;\n",
              "      --fill-color: #D2E3FC;\n",
              "      --hover-bg-color: #434B5C;\n",
              "      --hover-fill-color: #FFFFFF;\n",
              "      --disabled-bg-color: #3B4455;\n",
              "      --disabled-fill-color: #666;\n",
              "  }\n",
              "\n",
              "  .colab-df-quickchart {\n",
              "    background-color: var(--bg-color);\n",
              "    border: none;\n",
              "    border-radius: 50%;\n",
              "    cursor: pointer;\n",
              "    display: none;\n",
              "    fill: var(--fill-color);\n",
              "    height: 32px;\n",
              "    padding: 0;\n",
              "    width: 32px;\n",
              "  }\n",
              "\n",
              "  .colab-df-quickchart:hover {\n",
              "    background-color: var(--hover-bg-color);\n",
              "    box-shadow: 0 1px 2px rgba(60, 64, 67, 0.3), 0 1px 3px 1px rgba(60, 64, 67, 0.15);\n",
              "    fill: var(--button-hover-fill-color);\n",
              "  }\n",
              "\n",
              "  .colab-df-quickchart-complete:disabled,\n",
              "  .colab-df-quickchart-complete:disabled:hover {\n",
              "    background-color: var(--disabled-bg-color);\n",
              "    fill: var(--disabled-fill-color);\n",
              "    box-shadow: none;\n",
              "  }\n",
              "\n",
              "  .colab-df-spinner {\n",
              "    border: 2px solid var(--fill-color);\n",
              "    border-color: transparent;\n",
              "    border-bottom-color: var(--fill-color);\n",
              "    animation:\n",
              "      spin 1s steps(1) infinite;\n",
              "  }\n",
              "\n",
              "  @keyframes spin {\n",
              "    0% {\n",
              "      border-color: transparent;\n",
              "      border-bottom-color: var(--fill-color);\n",
              "      border-left-color: var(--fill-color);\n",
              "    }\n",
              "    20% {\n",
              "      border-color: transparent;\n",
              "      border-left-color: var(--fill-color);\n",
              "      border-top-color: var(--fill-color);\n",
              "    }\n",
              "    30% {\n",
              "      border-color: transparent;\n",
              "      border-left-color: var(--fill-color);\n",
              "      border-top-color: var(--fill-color);\n",
              "      border-right-color: var(--fill-color);\n",
              "    }\n",
              "    40% {\n",
              "      border-color: transparent;\n",
              "      border-right-color: var(--fill-color);\n",
              "      border-top-color: var(--fill-color);\n",
              "    }\n",
              "    60% {\n",
              "      border-color: transparent;\n",
              "      border-right-color: var(--fill-color);\n",
              "    }\n",
              "    80% {\n",
              "      border-color: transparent;\n",
              "      border-right-color: var(--fill-color);\n",
              "      border-bottom-color: var(--fill-color);\n",
              "    }\n",
              "    90% {\n",
              "      border-color: transparent;\n",
              "      border-bottom-color: var(--fill-color);\n",
              "    }\n",
              "  }\n",
              "</style>\n",
              "\n",
              "  <script>\n",
              "    async function quickchart(key) {\n",
              "      const quickchartButtonEl =\n",
              "        document.querySelector('#' + key + ' button');\n",
              "      quickchartButtonEl.disabled = true;  // To prevent multiple clicks.\n",
              "      quickchartButtonEl.classList.add('colab-df-spinner');\n",
              "      try {\n",
              "        const charts = await google.colab.kernel.invokeFunction(\n",
              "            'suggestCharts', [key], {});\n",
              "      } catch (error) {\n",
              "        console.error('Error during call to suggestCharts:', error);\n",
              "      }\n",
              "      quickchartButtonEl.classList.remove('colab-df-spinner');\n",
              "      quickchartButtonEl.classList.add('colab-df-quickchart-complete');\n",
              "    }\n",
              "    (() => {\n",
              "      let quickchartButtonEl =\n",
              "        document.querySelector('#df-bc630718-c292-4047-a609-7fcf6fc6f759 button');\n",
              "      quickchartButtonEl.style.display =\n",
              "        google.colab.kernel.accessAllowed ? 'block' : 'none';\n",
              "    })();\n",
              "  </script>\n",
              "</div>\n",
              "    </div>\n",
              "  </div>\n"
            ]
          },
          "metadata": {},
          "execution_count": 24
        }
      ]
    },
    {
      "cell_type": "markdown",
      "source": [
        "## Data Exploration"
      ],
      "metadata": {
        "id": "DgK1zQrrgtmw"
      }
    },
    {
      "cell_type": "code",
      "source": [
        "print('Total number of records: ',len(df))                # For checking number of records"
      ],
      "metadata": {
        "colab": {
          "base_uri": "https://localhost:8080/"
        },
        "id": "o8ntAuSgdrXE",
        "outputId": "41c43108-cfda-47ba-a762-f41f44da4c57"
      },
      "execution_count": 25,
      "outputs": [
        {
          "output_type": "stream",
          "name": "stdout",
          "text": [
            "Total number of records:  768\n"
          ]
        }
      ]
    },
    {
      "cell_type": "code",
      "source": [
        "print(\"Parameter are: \",df.columns)                     #For printing coloumn names"
      ],
      "metadata": {
        "colab": {
          "base_uri": "https://localhost:8080/"
        },
        "id": "UrBtOSjRg8Rq",
        "outputId": "894b8f88-8c13-423b-9525-ea7c09f7cba8"
      },
      "execution_count": 26,
      "outputs": [
        {
          "output_type": "stream",
          "name": "stdout",
          "text": [
            "Parameter are:  Index(['Pregnancies', 'Glucose', 'BloodPressure', 'SkinThickness', 'Insulin',\n",
            "       'BMI', 'DiabetesPedigreeFunction', 'Age', 'Outcome'],\n",
            "      dtype='object')\n"
          ]
        }
      ]
    },
    {
      "cell_type": "code",
      "source": [
        "df.info()                           #Get insight about data"
      ],
      "metadata": {
        "colab": {
          "base_uri": "https://localhost:8080/"
        },
        "id": "6PYLBN8nhAbb",
        "outputId": "ce7c90cc-f125-4fb6-a710-d881e9a17a41"
      },
      "execution_count": 27,
      "outputs": [
        {
          "output_type": "stream",
          "name": "stdout",
          "text": [
            "<class 'pandas.core.frame.DataFrame'>\n",
            "RangeIndex: 768 entries, 0 to 767\n",
            "Data columns (total 9 columns):\n",
            " #   Column                    Non-Null Count  Dtype  \n",
            "---  ------                    --------------  -----  \n",
            " 0   Pregnancies               768 non-null    int64  \n",
            " 1   Glucose                   768 non-null    int64  \n",
            " 2   BloodPressure             768 non-null    int64  \n",
            " 3   SkinThickness             768 non-null    int64  \n",
            " 4   Insulin                   768 non-null    int64  \n",
            " 5   BMI                       768 non-null    float64\n",
            " 6   DiabetesPedigreeFunction  768 non-null    float64\n",
            " 7   Age                       768 non-null    int64  \n",
            " 8   Outcome                   768 non-null    int64  \n",
            "dtypes: float64(2), int64(7)\n",
            "memory usage: 54.1 KB\n"
          ]
        }
      ]
    },
    {
      "cell_type": "code",
      "source": [
        "df.describe()"
      ],
      "metadata": {
        "colab": {
          "base_uri": "https://localhost:8080/",
          "height": 300
        },
        "id": "PDQ89gKWhH7P",
        "outputId": "f0e6a9b2-025e-4bcc-b6fb-6accf6228d01"
      },
      "execution_count": 28,
      "outputs": [
        {
          "output_type": "execute_result",
          "data": {
            "text/plain": [
              "       Pregnancies     Glucose  BloodPressure  SkinThickness     Insulin  \\\n",
              "count   768.000000  768.000000     768.000000     768.000000  768.000000   \n",
              "mean      3.845052  120.894531      69.105469      20.536458   79.799479   \n",
              "std       3.369578   31.972618      19.355807      15.952218  115.244002   \n",
              "min       0.000000    0.000000       0.000000       0.000000    0.000000   \n",
              "25%       1.000000   99.000000      62.000000       0.000000    0.000000   \n",
              "50%       3.000000  117.000000      72.000000      23.000000   30.500000   \n",
              "75%       6.000000  140.250000      80.000000      32.000000  127.250000   \n",
              "max      17.000000  199.000000     122.000000      99.000000  846.000000   \n",
              "\n",
              "              BMI  DiabetesPedigreeFunction         Age     Outcome  \n",
              "count  768.000000                768.000000  768.000000  768.000000  \n",
              "mean    31.992578                  0.471876   33.240885    0.348958  \n",
              "std      7.884160                  0.331329   11.760232    0.476951  \n",
              "min      0.000000                  0.078000   21.000000    0.000000  \n",
              "25%     27.300000                  0.243750   24.000000    0.000000  \n",
              "50%     32.000000                  0.372500   29.000000    0.000000  \n",
              "75%     36.600000                  0.626250   41.000000    1.000000  \n",
              "max     67.100000                  2.420000   81.000000    1.000000  "
            ],
            "text/html": [
              "\n",
              "  <div id=\"df-0ae6ff6e-8ff4-4fe7-a873-3c3a2ab46cda\" class=\"colab-df-container\">\n",
              "    <div>\n",
              "<style scoped>\n",
              "    .dataframe tbody tr th:only-of-type {\n",
              "        vertical-align: middle;\n",
              "    }\n",
              "\n",
              "    .dataframe tbody tr th {\n",
              "        vertical-align: top;\n",
              "    }\n",
              "\n",
              "    .dataframe thead th {\n",
              "        text-align: right;\n",
              "    }\n",
              "</style>\n",
              "<table border=\"1\" class=\"dataframe\">\n",
              "  <thead>\n",
              "    <tr style=\"text-align: right;\">\n",
              "      <th></th>\n",
              "      <th>Pregnancies</th>\n",
              "      <th>Glucose</th>\n",
              "      <th>BloodPressure</th>\n",
              "      <th>SkinThickness</th>\n",
              "      <th>Insulin</th>\n",
              "      <th>BMI</th>\n",
              "      <th>DiabetesPedigreeFunction</th>\n",
              "      <th>Age</th>\n",
              "      <th>Outcome</th>\n",
              "    </tr>\n",
              "  </thead>\n",
              "  <tbody>\n",
              "    <tr>\n",
              "      <th>count</th>\n",
              "      <td>768.000000</td>\n",
              "      <td>768.000000</td>\n",
              "      <td>768.000000</td>\n",
              "      <td>768.000000</td>\n",
              "      <td>768.000000</td>\n",
              "      <td>768.000000</td>\n",
              "      <td>768.000000</td>\n",
              "      <td>768.000000</td>\n",
              "      <td>768.000000</td>\n",
              "    </tr>\n",
              "    <tr>\n",
              "      <th>mean</th>\n",
              "      <td>3.845052</td>\n",
              "      <td>120.894531</td>\n",
              "      <td>69.105469</td>\n",
              "      <td>20.536458</td>\n",
              "      <td>79.799479</td>\n",
              "      <td>31.992578</td>\n",
              "      <td>0.471876</td>\n",
              "      <td>33.240885</td>\n",
              "      <td>0.348958</td>\n",
              "    </tr>\n",
              "    <tr>\n",
              "      <th>std</th>\n",
              "      <td>3.369578</td>\n",
              "      <td>31.972618</td>\n",
              "      <td>19.355807</td>\n",
              "      <td>15.952218</td>\n",
              "      <td>115.244002</td>\n",
              "      <td>7.884160</td>\n",
              "      <td>0.331329</td>\n",
              "      <td>11.760232</td>\n",
              "      <td>0.476951</td>\n",
              "    </tr>\n",
              "    <tr>\n",
              "      <th>min</th>\n",
              "      <td>0.000000</td>\n",
              "      <td>0.000000</td>\n",
              "      <td>0.000000</td>\n",
              "      <td>0.000000</td>\n",
              "      <td>0.000000</td>\n",
              "      <td>0.000000</td>\n",
              "      <td>0.078000</td>\n",
              "      <td>21.000000</td>\n",
              "      <td>0.000000</td>\n",
              "    </tr>\n",
              "    <tr>\n",
              "      <th>25%</th>\n",
              "      <td>1.000000</td>\n",
              "      <td>99.000000</td>\n",
              "      <td>62.000000</td>\n",
              "      <td>0.000000</td>\n",
              "      <td>0.000000</td>\n",
              "      <td>27.300000</td>\n",
              "      <td>0.243750</td>\n",
              "      <td>24.000000</td>\n",
              "      <td>0.000000</td>\n",
              "    </tr>\n",
              "    <tr>\n",
              "      <th>50%</th>\n",
              "      <td>3.000000</td>\n",
              "      <td>117.000000</td>\n",
              "      <td>72.000000</td>\n",
              "      <td>23.000000</td>\n",
              "      <td>30.500000</td>\n",
              "      <td>32.000000</td>\n",
              "      <td>0.372500</td>\n",
              "      <td>29.000000</td>\n",
              "      <td>0.000000</td>\n",
              "    </tr>\n",
              "    <tr>\n",
              "      <th>75%</th>\n",
              "      <td>6.000000</td>\n",
              "      <td>140.250000</td>\n",
              "      <td>80.000000</td>\n",
              "      <td>32.000000</td>\n",
              "      <td>127.250000</td>\n",
              "      <td>36.600000</td>\n",
              "      <td>0.626250</td>\n",
              "      <td>41.000000</td>\n",
              "      <td>1.000000</td>\n",
              "    </tr>\n",
              "    <tr>\n",
              "      <th>max</th>\n",
              "      <td>17.000000</td>\n",
              "      <td>199.000000</td>\n",
              "      <td>122.000000</td>\n",
              "      <td>99.000000</td>\n",
              "      <td>846.000000</td>\n",
              "      <td>67.100000</td>\n",
              "      <td>2.420000</td>\n",
              "      <td>81.000000</td>\n",
              "      <td>1.000000</td>\n",
              "    </tr>\n",
              "  </tbody>\n",
              "</table>\n",
              "</div>\n",
              "    <div class=\"colab-df-buttons\">\n",
              "\n",
              "  <div class=\"colab-df-container\">\n",
              "    <button class=\"colab-df-convert\" onclick=\"convertToInteractive('df-0ae6ff6e-8ff4-4fe7-a873-3c3a2ab46cda')\"\n",
              "            title=\"Convert this dataframe to an interactive table.\"\n",
              "            style=\"display:none;\">\n",
              "\n",
              "  <svg xmlns=\"http://www.w3.org/2000/svg\" height=\"24px\" viewBox=\"0 -960 960 960\">\n",
              "    <path d=\"M120-120v-720h720v720H120Zm60-500h600v-160H180v160Zm220 220h160v-160H400v160Zm0 220h160v-160H400v160ZM180-400h160v-160H180v160Zm440 0h160v-160H620v160ZM180-180h160v-160H180v160Zm440 0h160v-160H620v160Z\"/>\n",
              "  </svg>\n",
              "    </button>\n",
              "\n",
              "  <style>\n",
              "    .colab-df-container {\n",
              "      display:flex;\n",
              "      gap: 12px;\n",
              "    }\n",
              "\n",
              "    .colab-df-convert {\n",
              "      background-color: #E8F0FE;\n",
              "      border: none;\n",
              "      border-radius: 50%;\n",
              "      cursor: pointer;\n",
              "      display: none;\n",
              "      fill: #1967D2;\n",
              "      height: 32px;\n",
              "      padding: 0 0 0 0;\n",
              "      width: 32px;\n",
              "    }\n",
              "\n",
              "    .colab-df-convert:hover {\n",
              "      background-color: #E2EBFA;\n",
              "      box-shadow: 0px 1px 2px rgba(60, 64, 67, 0.3), 0px 1px 3px 1px rgba(60, 64, 67, 0.15);\n",
              "      fill: #174EA6;\n",
              "    }\n",
              "\n",
              "    .colab-df-buttons div {\n",
              "      margin-bottom: 4px;\n",
              "    }\n",
              "\n",
              "    [theme=dark] .colab-df-convert {\n",
              "      background-color: #3B4455;\n",
              "      fill: #D2E3FC;\n",
              "    }\n",
              "\n",
              "    [theme=dark] .colab-df-convert:hover {\n",
              "      background-color: #434B5C;\n",
              "      box-shadow: 0px 1px 3px 1px rgba(0, 0, 0, 0.15);\n",
              "      filter: drop-shadow(0px 1px 2px rgba(0, 0, 0, 0.3));\n",
              "      fill: #FFFFFF;\n",
              "    }\n",
              "  </style>\n",
              "\n",
              "    <script>\n",
              "      const buttonEl =\n",
              "        document.querySelector('#df-0ae6ff6e-8ff4-4fe7-a873-3c3a2ab46cda button.colab-df-convert');\n",
              "      buttonEl.style.display =\n",
              "        google.colab.kernel.accessAllowed ? 'block' : 'none';\n",
              "\n",
              "      async function convertToInteractive(key) {\n",
              "        const element = document.querySelector('#df-0ae6ff6e-8ff4-4fe7-a873-3c3a2ab46cda');\n",
              "        const dataTable =\n",
              "          await google.colab.kernel.invokeFunction('convertToInteractive',\n",
              "                                                    [key], {});\n",
              "        if (!dataTable) return;\n",
              "\n",
              "        const docLinkHtml = 'Like what you see? Visit the ' +\n",
              "          '<a target=\"_blank\" href=https://colab.research.google.com/notebooks/data_table.ipynb>data table notebook</a>'\n",
              "          + ' to learn more about interactive tables.';\n",
              "        element.innerHTML = '';\n",
              "        dataTable['output_type'] = 'display_data';\n",
              "        await google.colab.output.renderOutput(dataTable, element);\n",
              "        const docLink = document.createElement('div');\n",
              "        docLink.innerHTML = docLinkHtml;\n",
              "        element.appendChild(docLink);\n",
              "      }\n",
              "    </script>\n",
              "  </div>\n",
              "\n",
              "\n",
              "<div id=\"df-f05f55e6-7884-4e27-87ae-f00c6ef22742\">\n",
              "  <button class=\"colab-df-quickchart\" onclick=\"quickchart('df-f05f55e6-7884-4e27-87ae-f00c6ef22742')\"\n",
              "            title=\"Suggest charts.\"\n",
              "            style=\"display:none;\">\n",
              "\n",
              "<svg xmlns=\"http://www.w3.org/2000/svg\" height=\"24px\"viewBox=\"0 0 24 24\"\n",
              "     width=\"24px\">\n",
              "    <g>\n",
              "        <path d=\"M19 3H5c-1.1 0-2 .9-2 2v14c0 1.1.9 2 2 2h14c1.1 0 2-.9 2-2V5c0-1.1-.9-2-2-2zM9 17H7v-7h2v7zm4 0h-2V7h2v10zm4 0h-2v-4h2v4z\"/>\n",
              "    </g>\n",
              "</svg>\n",
              "  </button>\n",
              "\n",
              "<style>\n",
              "  .colab-df-quickchart {\n",
              "      --bg-color: #E8F0FE;\n",
              "      --fill-color: #1967D2;\n",
              "      --hover-bg-color: #E2EBFA;\n",
              "      --hover-fill-color: #174EA6;\n",
              "      --disabled-fill-color: #AAA;\n",
              "      --disabled-bg-color: #DDD;\n",
              "  }\n",
              "\n",
              "  [theme=dark] .colab-df-quickchart {\n",
              "      --bg-color: #3B4455;\n",
              "      --fill-color: #D2E3FC;\n",
              "      --hover-bg-color: #434B5C;\n",
              "      --hover-fill-color: #FFFFFF;\n",
              "      --disabled-bg-color: #3B4455;\n",
              "      --disabled-fill-color: #666;\n",
              "  }\n",
              "\n",
              "  .colab-df-quickchart {\n",
              "    background-color: var(--bg-color);\n",
              "    border: none;\n",
              "    border-radius: 50%;\n",
              "    cursor: pointer;\n",
              "    display: none;\n",
              "    fill: var(--fill-color);\n",
              "    height: 32px;\n",
              "    padding: 0;\n",
              "    width: 32px;\n",
              "  }\n",
              "\n",
              "  .colab-df-quickchart:hover {\n",
              "    background-color: var(--hover-bg-color);\n",
              "    box-shadow: 0 1px 2px rgba(60, 64, 67, 0.3), 0 1px 3px 1px rgba(60, 64, 67, 0.15);\n",
              "    fill: var(--button-hover-fill-color);\n",
              "  }\n",
              "\n",
              "  .colab-df-quickchart-complete:disabled,\n",
              "  .colab-df-quickchart-complete:disabled:hover {\n",
              "    background-color: var(--disabled-bg-color);\n",
              "    fill: var(--disabled-fill-color);\n",
              "    box-shadow: none;\n",
              "  }\n",
              "\n",
              "  .colab-df-spinner {\n",
              "    border: 2px solid var(--fill-color);\n",
              "    border-color: transparent;\n",
              "    border-bottom-color: var(--fill-color);\n",
              "    animation:\n",
              "      spin 1s steps(1) infinite;\n",
              "  }\n",
              "\n",
              "  @keyframes spin {\n",
              "    0% {\n",
              "      border-color: transparent;\n",
              "      border-bottom-color: var(--fill-color);\n",
              "      border-left-color: var(--fill-color);\n",
              "    }\n",
              "    20% {\n",
              "      border-color: transparent;\n",
              "      border-left-color: var(--fill-color);\n",
              "      border-top-color: var(--fill-color);\n",
              "    }\n",
              "    30% {\n",
              "      border-color: transparent;\n",
              "      border-left-color: var(--fill-color);\n",
              "      border-top-color: var(--fill-color);\n",
              "      border-right-color: var(--fill-color);\n",
              "    }\n",
              "    40% {\n",
              "      border-color: transparent;\n",
              "      border-right-color: var(--fill-color);\n",
              "      border-top-color: var(--fill-color);\n",
              "    }\n",
              "    60% {\n",
              "      border-color: transparent;\n",
              "      border-right-color: var(--fill-color);\n",
              "    }\n",
              "    80% {\n",
              "      border-color: transparent;\n",
              "      border-right-color: var(--fill-color);\n",
              "      border-bottom-color: var(--fill-color);\n",
              "    }\n",
              "    90% {\n",
              "      border-color: transparent;\n",
              "      border-bottom-color: var(--fill-color);\n",
              "    }\n",
              "  }\n",
              "</style>\n",
              "\n",
              "  <script>\n",
              "    async function quickchart(key) {\n",
              "      const quickchartButtonEl =\n",
              "        document.querySelector('#' + key + ' button');\n",
              "      quickchartButtonEl.disabled = true;  // To prevent multiple clicks.\n",
              "      quickchartButtonEl.classList.add('colab-df-spinner');\n",
              "      try {\n",
              "        const charts = await google.colab.kernel.invokeFunction(\n",
              "            'suggestCharts', [key], {});\n",
              "      } catch (error) {\n",
              "        console.error('Error during call to suggestCharts:', error);\n",
              "      }\n",
              "      quickchartButtonEl.classList.remove('colab-df-spinner');\n",
              "      quickchartButtonEl.classList.add('colab-df-quickchart-complete');\n",
              "    }\n",
              "    (() => {\n",
              "      let quickchartButtonEl =\n",
              "        document.querySelector('#df-f05f55e6-7884-4e27-87ae-f00c6ef22742 button');\n",
              "      quickchartButtonEl.style.display =\n",
              "        google.colab.kernel.accessAllowed ? 'block' : 'none';\n",
              "    })();\n",
              "  </script>\n",
              "</div>\n",
              "    </div>\n",
              "  </div>\n"
            ]
          },
          "metadata": {},
          "execution_count": 28
        }
      ]
    },
    {
      "cell_type": "code",
      "source": [
        "df['Outcome'].describe()"
      ],
      "metadata": {
        "colab": {
          "base_uri": "https://localhost:8080/"
        },
        "id": "SH9RQ67RhMZR",
        "outputId": "5133a550-deb0-459e-eeaa-b63f5ea9a2fd"
      },
      "execution_count": 29,
      "outputs": [
        {
          "output_type": "execute_result",
          "data": {
            "text/plain": [
              "count    768.000000\n",
              "mean       0.348958\n",
              "std        0.476951\n",
              "min        0.000000\n",
              "25%        0.000000\n",
              "50%        0.000000\n",
              "75%        1.000000\n",
              "max        1.000000\n",
              "Name: Outcome, dtype: float64"
            ]
          },
          "metadata": {},
          "execution_count": 29
        }
      ]
    },
    {
      "cell_type": "code",
      "source": [
        "plt.figure(figsize=(10, 8))\n",
        "correlation_matrix = df.corr()\n",
        "sns.heatmap(correlation_matrix, annot=True, cmap='coolwarm')\n",
        "plt.title('Correlation Heatmap')\n",
        "plt.show()"
      ],
      "metadata": {
        "colab": {
          "base_uri": "https://localhost:8080/",
          "height": 866
        },
        "id": "IAihkrfdXGKX",
        "outputId": "c8f0151f-58b1-4945-ee8e-f0c4c7ffe16e"
      },
      "execution_count": 30,
      "outputs": [
        {
          "output_type": "display_data",
          "data": {
            "text/plain": [
              "<Figure size 1000x800 with 2 Axes>"
            ],
            "image/png": "[encoded data removed]"
          },
          "metadata": {}
        }
      ]
    },
    {
      "cell_type": "markdown",
      "source": [
        "## STEP 3:\n",
        "### Data Preprocessing\n",
        "In this step we will perform task as handling missing values and encode catagorical data\n",
        "\n"
      ],
      "metadata": {
        "id": "C06Lai1jbmQw"
      }
    },
    {
      "cell_type": "markdown",
      "source": [
        "### Handling missing values"
      ],
      "metadata": {
        "id": "rqVrV3dIYMwA"
      }
    },
    {
      "cell_type": "code",
      "source": [
        "df.isnull().values.any()"
      ],
      "metadata": {
        "colab": {
          "base_uri": "https://localhost:8080/"
        },
        "id": "abM8kte7YRQG",
        "outputId": "10080d1b-4e8f-42ca-ba0f-75e1cfada7f1"
      },
      "execution_count": 31,
      "outputs": [
        {
          "output_type": "execute_result",
          "data": {
            "text/plain": [
              "False"
            ]
          },
          "metadata": {},
          "execution_count": 31
        }
      ]
    },
    {
      "cell_type": "code",
      "source": [
        "true_count= len(df.loc[df['Outcome']==True])\n",
        "False_count= len(df.loc[df['Outcome']==False])\n",
        "(true_count,False_count)"
      ],
      "metadata": {
        "id": "smUBImmZa_Wu",
        "colab": {
          "base_uri": "https://localhost:8080/"
        },
        "outputId": "0c371f16-49da-4183-e46a-789307b8707e"
      },
      "execution_count": 32,
      "outputs": [
        {
          "output_type": "execute_result",
          "data": {
            "text/plain": [
              "(268, 500)"
            ]
          },
          "metadata": {},
          "execution_count": 32
        }
      ]
    },
    {
      "cell_type": "markdown",
      "source": [
        "### Finding Correlation between Attributes"
      ],
      "metadata": {
        "id": "weRFJ3UfobQe"
      }
    },
    {
      "cell_type": "code",
      "source": [
        "df.corr()['Outcome'].sort_values()"
      ],
      "metadata": {
        "colab": {
          "base_uri": "https://localhost:8080/"
        },
        "id": "SduReqWqoYGF",
        "outputId": "fa3fbdc9-1486-426e-dd99-35849e1a0ab1"
      },
      "execution_count": 33,
      "outputs": [
        {
          "output_type": "execute_result",
          "data": {
            "text/plain": [
              "BloodPressure               0.065068\n",
              "SkinThickness               0.074752\n",
              "Insulin                     0.130548\n",
              "DiabetesPedigreeFunction    0.173844\n",
              "Pregnancies                 0.221898\n",
              "Age                         0.238356\n",
              "BMI                         0.292695\n",
              "Glucose                     0.466581\n",
              "Outcome                     1.000000\n",
              "Name: Outcome, dtype: float64"
            ]
          },
          "metadata": {},
          "execution_count": 33
        }
      ]
    },
    {
      "cell_type": "markdown",
      "source": [
        "# Data spliting\n",
        "In this step we will split data in to testing and training data"
      ],
      "metadata": {
        "id": "E7ptr0O5pafN"
      }
    },
    {
      "cell_type": "code",
      "source": [
        "from sklearn.model_selection import train_test_split\n",
        "X = df[['Pregnancies','Glucose','BloodPressure','SkinThickness','Insulin','BMI','DiabetesPedigreeFunction','Age']]\n",
        "Y = df['Outcome']"
      ],
      "metadata": {
        "id": "LF5buVO1pTk4"
      },
      "execution_count": 34,
      "outputs": []
    },
    {
      "cell_type": "code",
      "source": [
        "X_train, X_test, Y_train, Y_test = train_test_split(X,Y,test_size=0.3, random_state=0)"
      ],
      "metadata": {
        "id": "bflQb8y00GQK"
      },
      "execution_count": 35,
      "outputs": []
    },
    {
      "cell_type": "markdown",
      "source": [
        "# Model Selection and Model Training\n",
        "Firstly we will select the right algorithm according to our requirement and then we will train data on model"
      ],
      "metadata": {
        "id": "R8WS3MgVZ3ym"
      }
    },
    {
      "cell_type": "code",
      "source": [
        "n_estimators = 10\n",
        "\n",
        "\n",
        "base_models = []\n",
        "base_models_ab = []\n",
        "base_models_gb = []\n",
        "base_models_bagging = []\n",
        "base_models_extra_trees = []\n",
        "base_models_xgboost = []\n"
      ],
      "metadata": {
        "id": "5Zsp628gpxBj"
      },
      "execution_count": 36,
      "outputs": []
    },
    {
      "cell_type": "code",
      "source": [
        "#Random Forest\n",
        "for i in range(n_estimators):\n",
        "    rf = RandomForestClassifier(n_estimators=100)\n",
        "    rf.fit(X_train, Y_train)\n",
        "    base_models.append(rf)\n",
        "\n",
        "# Create and train AdaBoost models\n",
        "for i in range(n_estimators):\n",
        "    ab = AdaBoostClassifier(n_estimators=100)\n",
        "    ab.fit(X_train, Y_train)\n",
        "    base_models_ab.append(ab)\n",
        "\n",
        "# Create and train Gradient Boosting models\n",
        "for i in range(n_estimators):\n",
        "    gb = GradientBoostingClassifier(n_estimators=100)\n",
        "    gb.fit(X_train, Y_train)\n",
        "    base_models_gb.append(gb)\n",
        "\n",
        "# Create and train Bagging models\n",
        "for i in range(n_estimators):\n",
        "    bagging = BaggingClassifier(n_estimators=100)\n",
        "    bagging.fit(X_train, Y_train)\n",
        "    base_models_bagging.append(bagging)\n",
        "\n",
        "# Create and train Extra Trees models\n",
        "for i in range(n_estimators):\n",
        "    extra_trees = ExtraTreesClassifier(n_estimators=100)\n",
        "    extra_trees.fit(X_train, Y_train)\n",
        "    base_models_extra_trees.append(extra_trees)\n",
        "\n",
        "# Create and train XGBoost models\n",
        "for i in range(n_estimators):\n",
        "    xgboost = XGBClassifier(n_estimators=100)\n",
        "    xgboost.fit(X_train, Y_train)\n",
        "    base_models_xgboost.append(xgboost)\n",
        "\n",
        "# Create and train Voting Classifier models\n",
        "voting_classifier = VotingClassifier(estimators=[\n",
        "    ('rf', base_models[0]),\n",
        "    ('ab', base_models_ab[0]),\n",
        "    ('gb', base_models_gb[0]),\n",
        "], voting='soft')\n",
        "voting_classifier.fit(X_train, Y_train)\n",
        "\n",
        "\n",
        "# Create and train Stacking Classifier models\n",
        "stacking_classifier = StackingClassifier(estimators=[\n",
        "    ('rf', base_models[0]),\n",
        "    ('ab', base_models_ab[0]),\n",
        "    ('gb', base_models_gb[0]),\n",
        "], final_estimator=LogisticRegression())\n",
        "stacking_classifier.fit(X_train, Y_train)\n",
        "\n",
        "#CatBoostClassifier\n",
        "catboost_model = CatBoostClassifier(iterations=100,  # Number of boosting iterations (adjust as needed)\n",
        "                                    learning_rate=0.1,  # Learning rate (adjust as needed)\n",
        "                                    depth=6,  # Depth of the trees (adjust as needed)\n",
        "                                    random_state=42)  # Random seed for reproducibility\n",
        "\n",
        "catboost_model.fit(X_train, Y_train)\n",
        "\n",
        "#PassiveAggressiveClassifier\n",
        "pa_classifier = PassiveAggressiveClassifier(C=1.0, random_state=42)\n",
        "pa_classifier.fit(X_train, Y_train)\n"
      ],
      "metadata": {
        "id": "Ou4wDGFQTuob",
        "colab": {
          "base_uri": "https://localhost:8080/",
          "height": 1000
        },
        "outputId": "298847ff-3353-4b70-e5ef-cfcb3df9e88b"
      },
      "execution_count": 37,
      "outputs": [
        {
          "output_type": "stream",
          "name": "stdout",
          "text": [
            "0:\tlearn: 0.6696660\ttotal: 3.57ms\tremaining: 354ms\n",
            "1:\tlearn: 0.6439327\ttotal: 10.4ms\tremaining: 508ms\n",
            "2:\tlearn: 0.6231656\ttotal: 12.7ms\tremaining: 410ms\n",
            "3:\tlearn: 0.6046479\ttotal: 16.6ms\tremaining: 399ms\n",
            "4:\tlearn: 0.5880920\ttotal: 20.2ms\tremaining: 384ms\n",
            "5:\tlearn: 0.5754677\ttotal: 22.4ms\tremaining: 351ms\n",
            "6:\tlearn: 0.5629351\ttotal: 24.3ms\tremaining: 322ms\n",
            "7:\tlearn: 0.5523935\ttotal: 26.1ms\tremaining: 300ms\n",
            "8:\tlearn: 0.5415695\ttotal: 27.9ms\tremaining: 282ms\n",
            "9:\tlearn: 0.5319848\ttotal: 29.7ms\tremaining: 268ms\n",
            "10:\tlearn: 0.5223657\ttotal: 31.5ms\tremaining: 255ms\n",
            "11:\tlearn: 0.5126379\ttotal: 32.6ms\tremaining: 239ms\n",
            "12:\tlearn: 0.5042433\ttotal: 34.4ms\tremaining: 230ms\n",
            "13:\tlearn: 0.4969392\ttotal: 35.9ms\tremaining: 221ms\n",
            "14:\tlearn: 0.4894147\ttotal: 37ms\tremaining: 210ms\n",
            "15:\tlearn: 0.4833023\ttotal: 38.7ms\tremaining: 203ms\n",
            "16:\tlearn: 0.4781299\ttotal: 40.4ms\tremaining: 197ms\n",
            "17:\tlearn: 0.4723399\ttotal: 41.6ms\tremaining: 189ms\n",
            "18:\tlearn: 0.4673457\ttotal: 43.3ms\tremaining: 185ms\n",
            "19:\tlearn: 0.4614204\ttotal: 45.1ms\tremaining: 180ms\n",
            "20:\tlearn: 0.4569711\ttotal: 46.2ms\tremaining: 174ms\n",
            "21:\tlearn: 0.4526491\ttotal: 48ms\tremaining: 170ms\n",
            "22:\tlearn: 0.4488881\ttotal: 49.8ms\tremaining: 167ms\n",
            "23:\tlearn: 0.4446401\ttotal: 50.8ms\tremaining: 161ms\n",
            "24:\tlearn: 0.4413013\ttotal: 52.8ms\tremaining: 158ms\n",
            "25:\tlearn: 0.4374387\ttotal: 54.6ms\tremaining: 155ms\n",
            "26:\tlearn: 0.4349468\ttotal: 56.4ms\tremaining: 152ms\n",
            "27:\tlearn: 0.4319285\ttotal: 61.5ms\tremaining: 158ms\n",
            "28:\tlearn: 0.4283321\ttotal: 64.3ms\tremaining: 157ms\n",
            "29:\tlearn: 0.4252992\ttotal: 66.8ms\tremaining: 156ms\n",
            "30:\tlearn: 0.4223877\ttotal: 69ms\tremaining: 154ms\n",
            "31:\tlearn: 0.4194894\ttotal: 70.8ms\tremaining: 150ms\n",
            "32:\tlearn: 0.4165061\ttotal: 72.6ms\tremaining: 147ms\n",
            "33:\tlearn: 0.4145892\ttotal: 74.4ms\tremaining: 144ms\n",
            "34:\tlearn: 0.4114445\ttotal: 76.6ms\tremaining: 142ms\n",
            "35:\tlearn: 0.4083818\ttotal: 79.9ms\tremaining: 142ms\n",
            "36:\tlearn: 0.4064132\ttotal: 83ms\tremaining: 141ms\n",
            "37:\tlearn: 0.4038530\ttotal: 86.9ms\tremaining: 142ms\n",
            "38:\tlearn: 0.4015209\ttotal: 89.4ms\tremaining: 140ms\n",
            "39:\tlearn: 0.3990173\ttotal: 96.2ms\tremaining: 144ms\n",
            "40:\tlearn: 0.3969540\ttotal: 99.6ms\tremaining: 143ms\n",
            "41:\tlearn: 0.3948596\ttotal: 103ms\tremaining: 142ms\n",
            "42:\tlearn: 0.3924852\ttotal: 107ms\tremaining: 141ms\n",
            "43:\tlearn: 0.3910142\ttotal: 110ms\tremaining: 140ms\n",
            "44:\tlearn: 0.3887631\ttotal: 113ms\tremaining: 138ms\n",
            "45:\tlearn: 0.3867452\ttotal: 116ms\tremaining: 137ms\n",
            "46:\tlearn: 0.3851626\ttotal: 120ms\tremaining: 135ms\n",
            "47:\tlearn: 0.3835106\ttotal: 122ms\tremaining: 132ms\n",
            "48:\tlearn: 0.3823412\ttotal: 127ms\tremaining: 132ms\n",
            "49:\tlearn: 0.3814481\ttotal: 129ms\tremaining: 129ms\n",
            "50:\tlearn: 0.3794327\ttotal: 132ms\tremaining: 127ms\n",
            "51:\tlearn: 0.3778717\ttotal: 136ms\tremaining: 125ms\n",
            "52:\tlearn: 0.3751704\ttotal: 139ms\tremaining: 123ms\n",
            "53:\tlearn: 0.3732480\ttotal: 142ms\tremaining: 121ms\n",
            "54:\tlearn: 0.3710960\ttotal: 145ms\tremaining: 119ms\n",
            "55:\tlearn: 0.3696035\ttotal: 147ms\tremaining: 116ms\n",
            "56:\tlearn: 0.3683663\ttotal: 149ms\tremaining: 112ms\n",
            "57:\tlearn: 0.3666869\ttotal: 152ms\tremaining: 110ms\n",
            "58:\tlearn: 0.3653570\ttotal: 154ms\tremaining: 107ms\n",
            "59:\tlearn: 0.3642628\ttotal: 158ms\tremaining: 105ms\n",
            "60:\tlearn: 0.3627902\ttotal: 161ms\tremaining: 103ms\n",
            "61:\tlearn: 0.3614282\ttotal: 164ms\tremaining: 101ms\n",
            "62:\tlearn: 0.3600451\ttotal: 167ms\tremaining: 98.2ms\n",
            "63:\tlearn: 0.3583148\ttotal: 171ms\tremaining: 96ms\n",
            "64:\tlearn: 0.3571078\ttotal: 180ms\tremaining: 96.9ms\n",
            "65:\tlearn: 0.3557873\ttotal: 183ms\tremaining: 94.2ms\n",
            "66:\tlearn: 0.3552041\ttotal: 187ms\tremaining: 92.2ms\n",
            "67:\tlearn: 0.3544628\ttotal: 191ms\tremaining: 89.7ms\n",
            "68:\tlearn: 0.3532299\ttotal: 194ms\tremaining: 87ms\n",
            "69:\tlearn: 0.3513788\ttotal: 197ms\tremaining: 84.4ms\n",
            "70:\tlearn: 0.3508596\ttotal: 200ms\tremaining: 81.7ms\n",
            "71:\tlearn: 0.3489918\ttotal: 203ms\tremaining: 79ms\n",
            "72:\tlearn: 0.3469674\ttotal: 206ms\tremaining: 76.4ms\n",
            "73:\tlearn: 0.3457913\ttotal: 210ms\tremaining: 73.7ms\n",
            "74:\tlearn: 0.3451652\ttotal: 213ms\tremaining: 71ms\n",
            "75:\tlearn: 0.3435296\ttotal: 216ms\tremaining: 68.3ms\n",
            "76:\tlearn: 0.3421751\ttotal: 219ms\tremaining: 65.3ms\n",
            "77:\tlearn: 0.3404249\ttotal: 223ms\tremaining: 63ms\n",
            "78:\tlearn: 0.3393449\ttotal: 228ms\tremaining: 60.5ms\n",
            "79:\tlearn: 0.3387381\ttotal: 231ms\tremaining: 57.6ms\n",
            "80:\tlearn: 0.3370757\ttotal: 235ms\tremaining: 55.1ms\n",
            "81:\tlearn: 0.3361573\ttotal: 238ms\tremaining: 52.3ms\n",
            "82:\tlearn: 0.3344051\ttotal: 241ms\tremaining: 49.3ms\n",
            "83:\tlearn: 0.3334347\ttotal: 243ms\tremaining: 46.2ms\n",
            "84:\tlearn: 0.3320814\ttotal: 248ms\tremaining: 43.7ms\n",
            "85:\tlearn: 0.3318249\ttotal: 250ms\tremaining: 40.6ms\n",
            "86:\tlearn: 0.3312274\ttotal: 254ms\tremaining: 38ms\n",
            "87:\tlearn: 0.3304255\ttotal: 257ms\tremaining: 35ms\n",
            "88:\tlearn: 0.3292467\ttotal: 260ms\tremaining: 32.2ms\n",
            "89:\tlearn: 0.3286216\ttotal: 264ms\tremaining: 29.3ms\n",
            "90:\tlearn: 0.3281229\ttotal: 267ms\tremaining: 26.4ms\n",
            "91:\tlearn: 0.3262731\ttotal: 270ms\tremaining: 23.5ms\n",
            "92:\tlearn: 0.3243906\ttotal: 273ms\tremaining: 20.6ms\n",
            "93:\tlearn: 0.3235579\ttotal: 277ms\tremaining: 17.6ms\n",
            "94:\tlearn: 0.3225762\ttotal: 280ms\tremaining: 14.7ms\n",
            "95:\tlearn: 0.3210401\ttotal: 283ms\tremaining: 11.8ms\n",
            "96:\tlearn: 0.3200937\ttotal: 286ms\tremaining: 8.84ms\n",
            "97:\tlearn: 0.3173769\ttotal: 289ms\tremaining: 5.9ms\n",
            "98:\tlearn: 0.3157563\ttotal: 292ms\tremaining: 2.95ms\n",
            "99:\tlearn: 0.3136702\ttotal: 295ms\tremaining: 0us\n"
          ]
        },
        {
          "output_type": "execute_result",
          "data": {
            "text/plain": [
              "PassiveAggressiveClassifier(random_state=42)"
            ],
            "text/html": [
              "<style>#sk-container-id-2 {color: black;background-color: white;}#sk-container-id-2 pre{padding: 0;}#sk-container-id-2 div.sk-toggleable {background-color: white;}#sk-container-id-2 label.sk-toggleable__label {cursor: pointer;display: block;width: 100%;margin-bottom: 0;padding: 0.3em;box-sizing: border-box;text-align: center;}#sk-container-id-2 label.sk-toggleable__label-arrow:before {content: \"▸\";float: left;margin-right: 0.25em;color: #696969;}#sk-container-id-2 label.sk-toggleable__label-arrow:hover:before {color: black;}#sk-container-id-2 div.sk-estimator:hover label.sk-toggleable__label-arrow:before {color: black;}#sk-container-id-2 div.sk-toggleable__content {max-height: 0;max-width: 0;overflow: hidden;text-align: left;background-color: #f0f8ff;}#sk-container-id-2 div.sk-toggleable__content pre {margin: 0.2em;color: black;border-radius: 0.25em;background-color: #f0f8ff;}#sk-container-id-2 input.sk-toggleable__control:checked~div.sk-toggleable__content {max-height: 200px;max-width: 100%;overflow: auto;}#sk-container-id-2 input.sk-toggleable__control:checked~label.sk-toggleable__label-arrow:before {content: \"▾\";}#sk-container-id-2 div.sk-estimator input.sk-toggleable__control:checked~label.sk-toggleable__label {background-color: #d4ebff;}#sk-container-id-2 div.sk-label input.sk-toggleable__control:checked~label.sk-toggleable__label {background-color: #d4ebff;}#sk-container-id-2 input.sk-hidden--visually {border: 0;clip: rect(1px 1px 1px 1px);clip: rect(1px, 1px, 1px, 1px);height: 1px;margin: -1px;overflow: hidden;padding: 0;position: absolute;width: 1px;}#sk-container-id-2 div.sk-estimator {font-family: monospace;background-color: #f0f8ff;border: 1px dotted black;border-radius: 0.25em;box-sizing: border-box;margin-bottom: 0.5em;}#sk-container-id-2 div.sk-estimator:hover {background-color: #d4ebff;}#sk-container-id-2 div.sk-parallel-item::after {content: \"\";width: 100%;border-bottom: 1px solid gray;flex-grow: 1;}#sk-container-id-2 div.sk-label:hover label.sk-toggleable__label {background-color: #d4ebff;}#sk-container-id-2 div.sk-serial::before {content: \"\";position: absolute;border-left: 1px solid gray;box-sizing: border-box;top: 0;bottom: 0;left: 50%;z-index: 0;}#sk-container-id-2 div.sk-serial {display: flex;flex-direction: column;align-items: center;background-color: white;padding-right: 0.2em;padding-left: 0.2em;position: relative;}#sk-container-id-2 div.sk-item {position: relative;z-index: 1;}#sk-container-id-2 div.sk-parallel {display: flex;align-items: stretch;justify-content: center;background-color: white;position: relative;}#sk-container-id-2 div.sk-item::before, #sk-container-id-2 div.sk-parallel-item::before {content: \"\";position: absolute;border-left: 1px solid gray;box-sizing: border-box;top: 0;bottom: 0;left: 50%;z-index: -1;}#sk-container-id-2 div.sk-parallel-item {display: flex;flex-direction: column;z-index: 1;position: relative;background-color: white;}#sk-container-id-2 div.sk-parallel-item:first-child::after {align-self: flex-end;width: 50%;}#sk-container-id-2 div.sk-parallel-item:last-child::after {align-self: flex-start;width: 50%;}#sk-container-id-2 div.sk-parallel-item:only-child::after {width: 0;}#sk-container-id-2 div.sk-dashed-wrapped {border: 1px dashed gray;margin: 0 0.4em 0.5em 0.4em;box-sizing: border-box;padding-bottom: 0.4em;background-color: white;}#sk-container-id-2 div.sk-label label {font-family: monospace;font-weight: bold;display: inline-block;line-height: 1.2em;}#sk-container-id-2 div.sk-label-container {text-align: center;}#sk-container-id-2 div.sk-container {/* jupyter's `normalize.less` sets `[hidden] { display: none; }` but bootstrap.min.css set `[hidden] { display: none !important; }` so we also need the `!important` here to be able to override the default hidden behavior on the sphinx rendered scikit-learn.org. See: https://github.com/scikit-learn/scikit-learn/issues/21755 */display: inline-block !important;position: relative;}#sk-container-id-2 div.sk-text-repr-fallback {display: none;}</style><div id=\"sk-container-id-2\" class=\"sk-top-container\"><div class=\"sk-text-repr-fallback\"><pre>PassiveAggressiveClassifier(random_state=42)</pre><b>In a Jupyter environment, please rerun this cell to show the HTML representation or trust the notebook. <br />On GitHub, the HTML representation is unable to render, please try loading this page with nbviewer.org.</b></div><div class=\"sk-container\" hidden><div class=\"sk-item\"><div class=\"sk-estimator sk-toggleable\"><input class=\"sk-toggleable__control sk-hidden--visually\" id=\"sk-estimator-id-2\" type=\"checkbox\" checked><label for=\"sk-estimator-id-2\" class=\"sk-toggleable__label sk-toggleable__label-arrow\">PassiveAggressiveClassifier</label><div class=\"sk-toggleable__content\"><pre>PassiveAggressiveClassifier(random_state=42)</pre></div></div></div></div></div>"
            ]
          },
          "metadata": {},
          "execution_count": 37
        }
      ]
    },
    {
      "cell_type": "markdown",
      "source": [
        "# Model Evaluation or Testing"
      ],
      "metadata": {
        "id": "FKNJDFSoaXK2"
      }
    },
    {
      "cell_type": "code",
      "source": [
        "predictions = [model.predict(X_test) for model in base_models]\n",
        "ensemble_predictions = np.round(np.mean(predictions, axis=0))\n",
        "ensemble_accuracy = accuracy_score(Y_test, ensemble_predictions)\n",
        "print(f\"Ensemble Accuracy for Random Forest: {ensemble_accuracy}\")\n",
        "\n",
        "predictions = [model.predict(X_test) for model in base_models_ab]\n",
        "ensemble_predictions = np.round(np.mean(predictions, axis=0))\n",
        "ensemble_accuracy = accuracy_score(Y_test, ensemble_predictions)\n",
        "print(f\"Ensemble Accuracy for AdaBoost: {ensemble_accuracy}\")\n",
        "\n",
        "predictions = [model.predict(X_test) for model in base_models_gb]\n",
        "ensemble_predictions = np.round(np.mean(predictions, axis=0))\n",
        "ensemble_accuracy = accuracy_score(Y_test, ensemble_predictions)\n",
        "print(f\"Ensemble Accuracy for Gradient Boosting: {ensemble_accuracy}\")\n",
        "\n",
        "predictions = [model.predict(X_test) for model in base_models_bagging]\n",
        "ensemble_predictions = np.round(np.mean(predictions, axis=0))\n",
        "ensemble_accuracy = accuracy_score(Y_test, ensemble_predictions)\n",
        "print(f\"Ensemble Accuracy for Bagging: {ensemble_accuracy}\")\n",
        "\n",
        "predictions = [model.predict(X_test) for model in base_models_extra_trees]\n",
        "ensemble_predictions = np.round(np.mean(predictions, axis=0))\n",
        "ensemble_accuracy = accuracy_score(Y_test, ensemble_predictions)\n",
        "print(f\"Ensemble Accuracy for Extre Trees: {ensemble_accuracy}\")\n",
        "\n",
        "predictions = [model.predict(X_test) for model in base_models_xgboost]\n",
        "ensemble_predictions = np.round(np.mean(predictions, axis=0))\n",
        "ensemble_accuracy = accuracy_score(Y_test, ensemble_predictions)\n",
        "print(f\"Ensemble Accuracy for XG Boost: {ensemble_accuracy}\")\n",
        "\n",
        "predictions = voting_classifier.predict(X_test)\n",
        "ensemble_accuracy = accuracy_score(Y_test, predictions)\n",
        "print(f\"Ensemble Accuracy for Voting: {ensemble_accuracy}\")\n",
        "\n",
        "predictions = stacking_classifier.predict(X_test)\n",
        "ensemble_accuracy = accuracy_score(Y_test, predictions)\n",
        "print(f\"Ensemble Accuracy for Stacking: {ensemble_accuracy}\")\n",
        "\n",
        "predictions = catboost_model.predict(X_test)\n",
        "ensemble_accuracy = accuracy_score(Y_test, predictions)\n",
        "print(f\"Ensemble Accuracy for Cat Boost Model: {ensemble_accuracy}\")\n",
        "\n",
        "predictions = pa_classifier.predict(X_test)\n",
        "ensemble_accuracy = accuracy_score(Y_test, predictions)\n",
        "print(f\"Ensemble Accuracy for Passive Aggressive: {ensemble_accuracy}\")"
      ],
      "metadata": {
        "id": "Z0m7_DqbT--k",
        "colab": {
          "base_uri": "https://localhost:8080/"
        },
        "outputId": "2153e743-6260-4a91-c293-fbecc35a7ed5"
      },
      "execution_count": 38,
      "outputs": [
        {
          "output_type": "stream",
          "name": "stdout",
          "text": [
            "Ensemble Accuracy for Random Forest: 0.7748917748917749\n",
            "Ensemble Accuracy for AdaBoost: 0.7532467532467533\n",
            "Ensemble Accuracy for Gradient Boosting: 0.7835497835497836\n",
            "Ensemble Accuracy for Bagging: 0.7878787878787878\n",
            "Ensemble Accuracy for Extre Trees: 0.7878787878787878\n",
            "Ensemble Accuracy for XG Boost: 0.7532467532467533\n",
            "Ensemble Accuracy for Voting: 0.7748917748917749\n",
            "Ensemble Accuracy for Stacking: 0.7835497835497836\n",
            "Ensemble Accuracy for Cat Boost Model: 0.7705627705627706\n",
            "Ensemble Accuracy for Passive Aggressive: 0.354978354978355\n"
          ]
        }
      ]
    },
    {
      "cell_type": "code",
      "source": [],
      "metadata": {
        "id": "6PGaMnhVUFfX"
      },
      "execution_count": 38,
      "outputs": []
    },
    {
      "cell_type": "code",
      "source": [],
      "metadata": {
        "id": "22ol8piK2QIQ"
      },
      "execution_count": 40,
      "outputs": []
    },
    {
      "cell_type": "code",
      "source": [
        "# Get input from the user\n",
        "user_input = {\n",
        "    'Pregnancies': float(input('Enter number of Pregnancies: ')),\n",
        "    'Glucose': float(input('Enter Glucose level: ')),\n",
        "    'BloodPressure': float(input('Enter Blood Pressure: ')),\n",
        "    'SkinThickness': float(input('Enter Skin Thickness: ')),\n",
        "    'Insulin': float(input('Enter Insulin level: ')),\n",
        "    'BMI': float(input('Enter BMI: ')),\n",
        "    'DiabetesPedigreeFunction': float(input('Enter Diabetes Pedigree Function: ')),\n",
        "    'Age': float(input('Enter Age: '))\n",
        "}\n",
        "\n",
        "# Convert the user input into a DataFrame\n",
        "user_df = pd.DataFrame([user_input])\n",
        "\n",
        "# Make a prediction using the trained model\n",
        "user_prediction = rf.predict(user_df)\n",
        "\n",
        "# Interpret the prediction\n",
        "if user_prediction[0] == 0:\n",
        "    result = \"No diabetes\"\n",
        "else:\n",
        "    result = \"Diabetes\"\n",
        "\n",
        "print(f\"The model predicts: {result}\")\n"
      ],
      "metadata": {
        "colab": {
          "base_uri": "https://localhost:8080/"
        },
        "id": "_ieByea42QRA",
        "outputId": "20d76c58-2efd-4e04-ed71-027f9dff6aec"
      },
      "execution_count": 41,
      "outputs": [
        {
          "output_type": "stream",
          "name": "stdout",
          "text": [
            "Enter number of Pregnancies: 0\n",
            "Enter Glucose level: 137\n",
            "Enter Blood Pressure: 40\n",
            "Enter Skin Thickness: 35\n",
            "Enter Insulin level: 168\n",
            "Enter BMI: 43.1\n",
            "Enter Diabetes Pedigree Function: 2.288\n",
            "Enter Age: 38\n",
            "The model predicts: Diabetes\n"
          ]
        }
      ]
    },
    {
      "cell_type": "code",
      "source": [],
      "metadata": {
        "id": "hL1Ji4vs2QV8"
      },
      "execution_count": 41,
      "outputs": []
    }
  ]
}